{
 "cells": [
  {
   "cell_type": "markdown",
   "metadata": {},
   "source": [
    "## Part 1"
   ]
  },
  {
   "cell_type": "code",
   "execution_count": 5,
   "metadata": {},
   "outputs": [],
   "source": [
    "def complement_base(base):\n",
    "    \"\"\"Returns the Watson-Crick complement of a base.\"\"\"\n",
    "    if base in 'Aa':\n",
    "        return 'T'\n",
    "    elif base in 'Tt':\n",
    "        return 'A'\n",
    "    elif base in 'Gg':\n",
    "        return 'C'\n",
    "    else:\n",
    "        return 'G'\n",
    "\n",
    "\n",
    "def reverse_complement(seq):\n",
    "    \"\"\"Compute reverse complement of a sequence.\"\"\"\n",
    "    # Initialize reverse complement\n",
    "    rev_seq = ''\n",
    "\n",
    "    # Loop through and populate list with reverse complement\n",
    "    for i in range(len(seq)-1, -1, -1):\n",
    "        rev_seq += complement_base(seq[i])\n",
    "\n",
    "    return rev_seq"
   ]
  },
  {
   "cell_type": "code",
   "execution_count": 6,
   "metadata": {},
   "outputs": [
    {
     "data": {
      "text/plain": [
       "'TGCAACTGC'"
      ]
     },
     "execution_count": 6,
     "metadata": {},
     "output_type": "execute_result"
    }
   ],
   "source": [
    "reverse_complement('GCAGTTGCA')"
   ]
  },
  {
   "cell_type": "code",
   "execution_count": 39,
   "metadata": {},
   "outputs": [],
   "source": [
    "def reverse_complement2(seq):\n",
    "    \"\"\"Compute reverse complement of a sequence.\"\"\"\n",
    "    # Initialize reverse of sequence\n",
    "    rev_seq = seq[::-1]\n",
    "    rev_seq = rev_seq.replace('A', 't')\n",
    "    rev_seq = rev_seq.replace('T', 'a')\n",
    "    rev_seq = rev_seq.replace('G', 'c')\n",
    "    rev_seq = rev_seq.replace('C', 'g')\n",
    "    rev_compl = rev_seq.upper()\n",
    "    \n",
    "    return rev_compl"
   ]
  },
  {
   "cell_type": "code",
   "execution_count": 40,
   "metadata": {},
   "outputs": [
    {
     "data": {
      "text/plain": [
       "'TGCAACTGC'"
      ]
     },
     "execution_count": 40,
     "metadata": {},
     "output_type": "execute_result"
    }
   ],
   "source": [
    "reverse_complement2('GCAGTTGCA')"
   ]
  },
  {
   "cell_type": "markdown",
   "metadata": {},
   "source": [
    "## Part 2"
   ]
  },
  {
   "cell_type": "code",
   "execution_count": 33,
   "metadata": {},
   "outputs": [],
   "source": [
    "def longest_common_substring(s1, s2):\n",
    "    length = 0\n",
    "    lcs = \"\"\n",
    "    \n",
    "    for i, x in enumerate(s1):         # iterate through the first string\n",
    "        temp_length = 0\n",
    "        temp_lcs = \"\"\n",
    "        for j, y in enumerate(s2):     # iterate through the second string\n",
    "            if s1[i] == s2[j]:         # if we find a match, then \n",
    "                temp_length = 0\n",
    "                c = 0\n",
    "                while s1[i + c] == s2[j + c]:  # loop through both strings while they match\n",
    "                    temp_length += 1\n",
    "                    c += 1\n",
    "                    if (i + c == len(s1)) or (j + c == len(s2)):  # if we have reached the end of either string, then we are done\n",
    "                        break\n",
    "                if temp_length > length:       # if this is the longest substring found so far, update our values\n",
    "                    length = temp_length\n",
    "                    lcs = s1[i:i+c]\n",
    "    return lcs                "
   ]
  },
  {
   "cell_type": "code",
   "execution_count": 35,
   "metadata": {},
   "outputs": [
    {
     "data": {
      "text/plain": [
       "'ATGC'"
      ]
     },
     "execution_count": 35,
     "metadata": {},
     "output_type": "execute_result"
    }
   ],
   "source": [
    "longest_common_substring('ATGC', 'ATGCA')"
   ]
  },
  {
   "cell_type": "code",
   "execution_count": 36,
   "metadata": {},
   "outputs": [
    {
     "data": {
      "text/plain": [
       "'ATGCC'"
      ]
     },
     "execution_count": 36,
     "metadata": {},
     "output_type": "execute_result"
    }
   ],
   "source": [
    "longest_common_substring('GATGCCATGCA', 'ATGCC')"
   ]
  },
  {
   "cell_type": "code",
   "execution_count": 34,
   "metadata": {},
   "outputs": [
    {
     "data": {
      "text/plain": [
       "'ACGT'"
      ]
     },
     "execution_count": 34,
     "metadata": {},
     "output_type": "execute_result"
    }
   ],
   "source": [
    "longest_common_substring('ACGTGGAAAGCCA', 'GTACACACGTTTTGAGAGACAC')"
   ]
  },
  {
   "cell_type": "markdown",
   "metadata": {},
   "source": [
    "## Part 3"
   ]
  },
  {
   "cell_type": "code",
   "execution_count": 25,
   "metadata": {},
   "outputs": [],
   "source": [
    "def equal_parentheses(p):\n",
    "    if p.count('(') == p.count(')'):\n",
    "        return True\n",
    "    return False"
   ]
  },
  {
   "cell_type": "code",
   "execution_count": 38,
   "metadata": {},
   "outputs": [
    {
     "data": {
      "text/plain": [
       "True"
      ]
     },
     "execution_count": 38,
     "metadata": {},
     "output_type": "execute_result"
    }
   ],
   "source": [
    "equal_parentheses('(((....)))')"
   ]
  },
  {
   "cell_type": "code",
   "execution_count": 39,
   "metadata": {},
   "outputs": [
    {
     "data": {
      "text/plain": [
       "False"
      ]
     },
     "execution_count": 39,
     "metadata": {},
     "output_type": "execute_result"
    }
   ],
   "source": [
    "equal_parentheses('(((....))')"
   ]
  },
  {
   "cell_type": "code",
   "execution_count": 27,
   "metadata": {},
   "outputs": [],
   "source": [
    "def dotparen_to_bp(seq):\n",
    "    a = 0\n",
    "    z = len(seq) - 1\n",
    "    bp = []\n",
    "    for i, x in enumerate(seq):\n",
    "        if x == '(':\n",
    "            while seq[z] != ')':\n",
    "                z -= 1\n",
    "            bp.append((i, z))\n",
    "            z -= 1\n",
    "    return bp"
   ]
  },
  {
   "cell_type": "code",
   "execution_count": 28,
   "metadata": {},
   "outputs": [
    {
     "data": {
      "text/plain": [
       "[(0, 14), (1, 13), (2, 12), (5, 11), (6, 10)]"
      ]
     },
     "execution_count": 28,
     "metadata": {},
     "output_type": "execute_result"
    }
   ],
   "source": [
    "dotparen_to_bp('(((..((...)))))')"
   ]
  },
  {
   "cell_type": "code",
   "execution_count": 18,
   "metadata": {},
   "outputs": [],
   "source": [
    "def hairpin_length(seq):\n",
    "    i = 0\n",
    "    while seq[i] != ')':\n",
    "        i += 1\n",
    "    j = i\n",
    "    while seq[j] != '(':\n",
    "        j -= 1\n",
    "    return i - j - 1"
   ]
  },
  {
   "cell_type": "code",
   "execution_count": 19,
   "metadata": {},
   "outputs": [
    {
     "data": {
      "text/plain": [
       "3"
      ]
     },
     "execution_count": 19,
     "metadata": {},
     "output_type": "execute_result"
    }
   ],
   "source": [
    "hairpin_length(\"(((..((...)))))\")"
   ]
  },
  {
   "cell_type": "code",
   "execution_count": 20,
   "metadata": {},
   "outputs": [
    {
     "data": {
      "text/plain": [
       "4"
      ]
     },
     "execution_count": 20,
     "metadata": {},
     "output_type": "execute_result"
    }
   ],
   "source": [
    "hairpin_length(\"(.(....).)\")"
   ]
  },
  {
   "cell_type": "code",
   "execution_count": 21,
   "metadata": {},
   "outputs": [
    {
     "data": {
      "text/plain": [
       "2"
      ]
     },
     "execution_count": 21,
     "metadata": {},
     "output_type": "execute_result"
    }
   ],
   "source": [
    "hairpin_length(\"((((..)))))\")"
   ]
  },
  {
   "cell_type": "code",
   "execution_count": 22,
   "metadata": {},
   "outputs": [],
   "source": [
    "def is_valid_hairpin(seq):\n",
    "    if hairpin_length(seq) > 2:\n",
    "        return True\n",
    "    return False"
   ]
  },
  {
   "cell_type": "code",
   "execution_count": 23,
   "metadata": {},
   "outputs": [
    {
     "data": {
      "text/plain": [
       "True"
      ]
     },
     "execution_count": 23,
     "metadata": {},
     "output_type": "execute_result"
    }
   ],
   "source": [
    "is_valid_hairpin(\"(((..((...)))))\")"
   ]
  },
  {
   "cell_type": "code",
   "execution_count": 24,
   "metadata": {},
   "outputs": [
    {
     "data": {
      "text/plain": [
       "False"
      ]
     },
     "execution_count": 24,
     "metadata": {},
     "output_type": "execute_result"
    }
   ],
   "source": [
    "is_valid_hairpin(\"((((..)))))\")"
   ]
  },
  {
   "cell_type": "code",
   "execution_count": 29,
   "metadata": {},
   "outputs": [],
   "source": [
    "def rna_ss_validator(seq, sec_struc, wobble=True):\n",
    "    if not equal_parentheses(sec_struc):\n",
    "        return False\n",
    "    if not is_valid_hairpin(sec_struc):\n",
    "        return False\n",
    "    bp_list = dotparen_to_bp(sec_struc)\n",
    "    for bp in bp_list:\n",
    "        b1 = seq[bp[0]]\n",
    "        b2 = seq[bp[1]]\n",
    "        if b1 == 'A':\n",
    "            if b2 != 'U':\n",
    "                return False\n",
    "        elif b1 == 'U':\n",
    "            if b2 != 'A':\n",
    "                return False\n",
    "        elif b1 == 'C':\n",
    "            if b2 != 'G':\n",
    "                return False\n",
    "        elif b1 == 'G':\n",
    "            if wobble:\n",
    "                if b2 not in 'CU':\n",
    "                    return False\n",
    "            else:\n",
    "                if b2 != 'C':\n",
    "                    return False\n",
    "        else:\n",
    "            return False\n",
    "    return True\n",
    "            \n",
    "    "
   ]
  },
  {
   "cell_type": "code",
   "execution_count": 30,
   "metadata": {},
   "outputs": [
    {
     "data": {
      "text/plain": [
       "True"
      ]
     },
     "execution_count": 30,
     "metadata": {},
     "output_type": "execute_result"
    }
   ],
   "source": [
    "rna_ss_validator('GCAUCUAUGC', '(((....)))')"
   ]
  },
  {
   "cell_type": "code",
   "execution_count": 31,
   "metadata": {},
   "outputs": [
    {
     "data": {
      "text/plain": [
       "True"
      ]
     },
     "execution_count": 31,
     "metadata": {},
     "output_type": "execute_result"
    }
   ],
   "source": [
    "rna_ss_validator('GCAUCUAUGU', '(((....)))')"
   ]
  },
  {
   "cell_type": "code",
   "execution_count": 32,
   "metadata": {},
   "outputs": [
    {
     "data": {
      "text/plain": [
       "True"
      ]
     },
     "execution_count": 32,
     "metadata": {},
     "output_type": "execute_result"
    }
   ],
   "source": [
    "rna_ss_validator('GCAUCUAUGU', '(.(....).)')"
   ]
  },
  {
   "cell_type": "code",
   "execution_count": 33,
   "metadata": {},
   "outputs": [
    {
     "data": {
      "text/plain": [
       "False"
      ]
     },
     "execution_count": 33,
     "metadata": {},
     "output_type": "execute_result"
    }
   ],
   "source": [
    "rna_ss_validator('GCAUCUACGC', '(((....)))')"
   ]
  },
  {
   "cell_type": "code",
   "execution_count": 38,
   "metadata": {},
   "outputs": [
    {
     "data": {
      "text/plain": [
       "False"
      ]
     },
     "execution_count": 38,
     "metadata": {},
     "output_type": "execute_result"
    }
   ],
   "source": [
    "rna_ss_validator('GCAUCUAUGU', '(((....)))', wobble=False)"
   ]
  },
  {
   "cell_type": "code",
   "execution_count": 35,
   "metadata": {},
   "outputs": [
    {
     "data": {
      "text/plain": [
       "False"
      ]
     },
     "execution_count": 35,
     "metadata": {},
     "output_type": "execute_result"
    }
   ],
   "source": [
    "rna_ss_validator('GCAUCUAUGU', '(.(....)).')"
   ]
  },
  {
   "cell_type": "code",
   "execution_count": 36,
   "metadata": {},
   "outputs": [
    {
     "data": {
      "text/plain": [
       "False"
      ]
     },
     "execution_count": 36,
     "metadata": {},
     "output_type": "execute_result"
    }
   ],
   "source": [
    "rna_ss_validator('GCCCUUGGCA', '(.((..))).')"
   ]
  },
  {
   "cell_type": "code",
   "execution_count": null,
   "metadata": {},
   "outputs": [],
   "source": []
  }
 ],
 "metadata": {
  "kernelspec": {
   "display_name": "Python 3",
   "language": "python",
   "name": "python3"
  },
  "language_info": {
   "codemirror_mode": {
    "name": "ipython",
    "version": 3
   },
   "file_extension": ".py",
   "mimetype": "text/x-python",
   "name": "python",
   "nbconvert_exporter": "python",
   "pygments_lexer": "ipython3",
   "version": "3.7.7"
  }
 },
 "nbformat": 4,
 "nbformat_minor": 4
}
